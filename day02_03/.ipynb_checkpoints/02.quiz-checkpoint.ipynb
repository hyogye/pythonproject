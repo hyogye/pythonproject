{
 "cells": [
  {
   "cell_type": "markdown",
   "id": "9e4d565c-b59b-4b0e-bf94-fb9db714b475",
   "metadata": {},
   "source": [
    "quiz.01>\n",
    "주민등록번호 14자리를 입력받아서 성별을 체크합니다.\n",
    "프로그램 종료는 (q,Q)를 누를때 까지 반복처리합니다.\n",
    "\n",
    "입력 (예:123456-1234567\n",
    "조건처리: - 길이값 체크\n",
    "          - 성별 체크 (가능값:1,2,3,4)\n",
    "출력: 여성입니다. or 남성입니다."
   ]
  },
  {
   "cell_type": "raw",
   "id": "d1503cda-79dd-4417-a618-cb428471a765",
   "metadata": {
    "jupyter": {
     "outputs_hidden": true
    },
    "tags": []
   },
   "source": [
    "#오답\n",
    "주민등록번호  = (14)\n",
    "while 주민등록번호:\n",
    "    print(\"주민등록번호를 입력했으니 성별을 체크합니다\")\n",
    "    여성입니다 = ()\n",
    "    남성입니다 = ([],[])\n",
    "    if 주민등록번호 == (q,Q):\n",
    "        print(\"프로그램을 종료합니다\")"
   ]
  },
  {
   "cell_type": "code",
   "execution_count": 3,
   "id": "ecb764b8-7f9d-477a-ace6-1e7087b4205f",
   "metadata": {
    "collapsed": true,
    "jupyter": {
     "outputs_hidden": true
    },
    "tags": []
   },
   "outputs": [
    {
     "name": "stdin",
     "output_type": "stream",
     "text": [
      "주민등록번호 입력(14자리,종료:q,Q) >>> 265948-3564285\n"
     ]
    },
    {
     "name": "stdout",
     "output_type": "stream",
     "text": [
      "남성입니다\n"
     ]
    },
    {
     "name": "stdin",
     "output_type": "stream",
     "text": [
      "주민등록번호 입력(14자리,종료:q,Q) >>> 265485-2645825\n"
     ]
    },
    {
     "name": "stdout",
     "output_type": "stream",
     "text": [
      "여성입니다\n"
     ]
    },
    {
     "name": "stdin",
     "output_type": "stream",
     "text": [
      "주민등록번호 입력(14자리,종료:q,Q) >>> 55554445454554\n"
     ]
    },
    {
     "name": "stdout",
     "output_type": "stream",
     "text": [
      "입력 문자의 길이가 안맞거나, 성별값의 범위가 아닙니다.\n"
     ]
    },
    {
     "name": "stdin",
     "output_type": "stream",
     "text": [
      "주민등록번호 입력(14자리,종료:q,Q) >>> 513946-4569876\n"
     ]
    },
    {
     "name": "stdout",
     "output_type": "stream",
     "text": [
      "여성입니다\n"
     ]
    },
    {
     "name": "stdin",
     "output_type": "stream",
     "text": [
      "주민등록번호 입력(14자리,종료:q,Q) >>> q\n"
     ]
    }
   ],
   "source": [
    "while True:\n",
    "    invalue = input('주민등록번호 입력(14자리,종료:q,Q) >>>')\n",
    "    if len(invalue) == 1 and invalue.lower() == 'q':\n",
    "        break\n",
    "    elif len(invalue) == 14 and invalue[6] == '-' and invalue[7] in ['1','2','3','4']:\n",
    "        if invalue[7] in ['1','3']:\n",
    "            print('남성입니다')\n",
    "        else:\n",
    "            print('여성입니다')\n",
    "    else:\n",
    "        print('입력 문자의 길이가 안맞거나, 성별값의 범위가 아닙니다.')\n",
    "    "
   ]
  },
  {
   "cell_type": "raw",
   "id": "4f1a41e4-9874-41d1-9bc6-e30bf7187bf3",
   "metadata": {},
   "source": [
    "quiz.02>\n",
    "로또 번호 추출기\n",
    "총 5셋트의 번호를 추출합니다.\n",
    "한 셋트당 번호는 6개 입니다.\n",
    "번호는 1~45 사이의 번호만 가능합니다.\n",
    "번호는 중복되면 안됩니다.\n",
    "번호를 출력시 오름차순으로 정렬해서 출력합니다."
   ]
  },
  {
   "cell_type": "code",
   "execution_count": 22,
   "id": "94042030-fcef-43ab-877f-8ca4e00da7c7",
   "metadata": {},
   "outputs": [
    {
     "name": "stdout",
     "output_type": "stream",
     "text": [
      "[15, 17, 19, 33, 34, 44]\n",
      "[6, 10, 24, 34, 41, 45]\n",
      "[8, 14, 20, 23, 25, 30]\n",
      "[4, 6, 9, 26, 31, 38]\n",
      "[6, 31, 35, 36, 37, 38]\n"
     ]
    }
   ],
   "source": [
    "import random\n",
    "for x in range(5):\n",
    "        lotto = [0,0,0,0,0,0]\n",
    "        for x in range(6):       \n",
    "            num = 0\n",
    "            while (num in lotto):\n",
    "                 num = random.randint(1,45)\n",
    "            lotto[x] = num\n",
    "        lotto.sort()\n",
    "        print(lotto)"
   ]
  },
  {
   "cell_type": "code",
   "execution_count": null,
   "id": "9822dc65-5a5a-433a-bd97-ff3cc99590b4",
   "metadata": {
    "jupyter": {
     "source_hidden": true
    },
    "tags": []
   },
   "outputs": [],
   "source": [
    "range는 순차적으로 횟수 제한\n",
    "sort는 작은 수부터 차례대로"
   ]
  },
  {
   "cell_type": "code",
   "execution_count": 27,
   "id": "d2ee0361-33f4-4689-8839-2301234124c6",
   "metadata": {},
   "outputs": [
    {
     "name": "stdout",
     "output_type": "stream",
     "text": [
      "[2, 8, 12, 15, 36, 40]\n",
      "[17, 27, 32, 34, 44, 45]\n",
      "[4, 12, 17, 27, 30, 35]\n",
      "[6, 7, 9, 39, 44, 45]\n",
      "[2, 20, 30, 31, 34, 35]\n",
      "[1, 8, 11, 22, 32, 33]\n"
     ]
    }
   ],
   "source": [
    "for i in range(6):\n",
    "    lotto =  random.sample(range(1,46),6)\n",
    "    lotto.sort()\n",
    "    print(lotto)"
   ]
  },
  {
   "cell_type": "raw",
   "id": "ddc57250-94fb-4a98-99e4-9ed9bfcc798a",
   "metadata": {},
   "source": [
    "quiz.03>\n",
    "커피메뉴 관리프로그램\n",
    "데이터 저장은 딕셔너리로.. {'메뉴명':가격,'coffe':2000}\n",
    "프로그램에서 사용할 메뉴\n",
    " 1.메뉴입력 2.메뉴수정 3.메뉴목록 4.메뉴삭제 5.프로그램 종료\n",
    " - 메뉴입력: 메뉴명과 가격을 입력받아서 저장\n",
    " - 메뉴수정: 메뉴명을 확인하고 있는 메뉴에 가격을 입력받아 수정\n",
    " - 메뉴목록: 저장된 메뉴명과 가격을 출력(천단위 구분 기호표기), 메뉴명 순서대로 출력\n",
    " - 메뉴삭제: 메뉴명을 확인하고 있는 메뉴에서 삭제\n",
    " - 프로그램 종료: 프로그램을 종료하는 메시지를 출력하고 종료\n",
    " - 메뉴1~5까지만 입력받고 다른 값이 들어오면 관련 에러 메시지를 출력한다\n",
    " - 가격은 숫자로 입력해야 된다"
   ]
  },
  {
   "cell_type": "raw",
   "id": "108eb0e7-9b3d-4101-a5b3-29651dcbaa03",
   "metadata": {},
   "source": [
    "#오답\n",
    "dic2 = {'아메리카노':3000,'달고나라떼':4000,'초코라떼':4500,'석류에이드':3500,'히비스커스':3800}\n",
    "while True:\n",
    "    menu = int(input(\"메뉴를 말해주세요: \"))\n",
    "    if menu\n",
    "    money = int(input(\"돈을 입력해주세요: \"))"
   ]
  },
  {
   "cell_type": "code",
   "execution_count": 173,
   "id": "d36f5a93-bc87-4ca4-bbc3-bb7b213d13ac",
   "metadata": {
    "tags": []
   },
   "outputs": [
    {
     "name": "stdin",
     "output_type": "stream",
     "text": [
      " 1.메뉴입력 2.메뉴수정 3.메뉴목록 4.메뉴삭제 5.프로그램 종료\n",
      "    메뉴선택 >>>  2\n"
     ]
    },
    {
     "name": "stdout",
     "output_type": "stream",
     "text": [
      "현재메뉴 : ['아메리카노', '달고나라떼', '초코라떼', '석류에이드', '히비스커스']\n"
     ]
    },
    {
     "name": "stdin",
     "output_type": "stream",
     "text": [
      "수정할 메뉴명을 입력하세요 >>> 달고나라떼\n",
      "수정할 메뉴의 가격을 입력하세요 >>> 2000\n",
      " 1.메뉴입력 2.메뉴수정 3.메뉴목록 4.메뉴삭제 5.프로그램 종료\n",
      "    메뉴선택 >>>  3\n"
     ]
    },
    {
     "name": "stdout",
     "output_type": "stream",
     "text": [
      "----- menu -----\n",
      "초코라떼 : 4,500\n",
      "히비스커스 : 3,800\n",
      "석류에이드 : 3,500\n",
      "아메리카노 : 3,000\n",
      "달고나라떼 : 2,000\n"
     ]
    },
    {
     "name": "stdin",
     "output_type": "stream",
     "text": [
      " 1.메뉴입력 2.메뉴수정 3.메뉴목록 4.메뉴삭제 5.프로그램 종료\n",
      "    메뉴선택 >>>  5\n"
     ]
    },
    {
     "name": "stdout",
     "output_type": "stream",
     "text": [
      "프로그램을 종료합니다.\n"
     ]
    }
   ],
   "source": [
    "menu = {'아메리카노':3000,'달고나라떼':4000,'초코라떼':4500,'석류에이드':3500,'히비스커스':3800}\n",
    "while True:\n",
    "    choic = input(''' 1.메뉴입력 2.메뉴수정 3.메뉴목록 4.메뉴삭제 5.프로그램 종료\n",
    "    메뉴선택 >>> ''')\n",
    "    if choic == '1':\n",
    "        print('현재메뉴 :',list(menu.keys()))\n",
    "        name = input('추가할 메뉴명을 입력하세요 >>>')\n",
    "        price = 'a'\n",
    "        while not price.isdecimal():\n",
    "            price = input('추가할 메뉴의 가격을 입력하세요 >>>')\n",
    "        menu[name]=int(price)\n",
    "    elif choic == '2':\n",
    "        print('현재메뉴 :',list(menu.keys()))\n",
    "        name = ''\n",
    "        while not name in menu.keys():\n",
    "            name = input('수정할 메뉴명을 입력하세요 >>>')\n",
    "        price = 'a'\n",
    "        while not price.isdecimal():\n",
    "            price = input('수정할 메뉴의 가격을 입력하세요 >>>')\n",
    "        menu[name]=int(price)\n",
    "    elif choic == '3':\n",
    "        print('----- menu -----')\n",
    "        for item in sorted(menu.items() ,key=lambda data:data[1],reverse=True):\n",
    "            print(f'{item[0]} : {item[1]:,}')\n",
    "    elif choic == '4':\n",
    "        print('현재메뉴 :',list(menu.keys()))\n",
    "        name = ''\n",
    "        while not name in menu.keys():\n",
    "            name = input('삭제할 메뉴명을 입력하세요 >>>')\n",
    "        del menu[name]\n",
    "    elif choic == '5':\n",
    "        print('프로그램을 종료합니다.')\n",
    "        break\n",
    "    else:\n",
    "        print('메뉴를 잘못 선택하셨습니다.')"
   ]
  },
  {
   "cell_type": "code",
   "execution_count": 1,
   "id": "7e6283c8-8f4f-4143-98b9-a19c91201438",
   "metadata": {},
   "outputs": [],
   "source": [
    "# sorted()\n",
    "list1 = [5,4,2,3,1]\n",
    "dict1 = {'아이스아메리카노':3000,'달고나라떼':4000,'초코라떼':4500}"
   ]
  },
  {
   "cell_type": "code",
   "execution_count": 2,
   "id": "7d71565d-bb17-455e-bef8-e97dc152dbd6",
   "metadata": {},
   "outputs": [
    {
     "data": {
      "text/plain": [
       "[1, 2, 3, 4, 5]"
      ]
     },
     "execution_count": 2,
     "metadata": {},
     "output_type": "execute_result"
    }
   ],
   "source": [
    "sorted(list1)"
   ]
  },
  {
   "cell_type": "code",
   "execution_count": 56,
   "id": "e2d941d9-0770-4024-a4e6-7ed9bb61157b",
   "metadata": {},
   "outputs": [
    {
     "data": {
      "text/plain": [
       "[5, 4, 2, 3, 1]"
      ]
     },
     "execution_count": 56,
     "metadata": {},
     "output_type": "execute_result"
    }
   ],
   "source": [
    "list1"
   ]
  },
  {
   "cell_type": "code",
   "execution_count": 57,
   "id": "79094e47-004a-41d2-a0cd-eb29c591b769",
   "metadata": {},
   "outputs": [
    {
     "data": {
      "text/plain": [
       "['달고나라떼', '아이스아메리카노', '초코라떼']"
      ]
     },
     "execution_count": 57,
     "metadata": {},
     "output_type": "execute_result"
    }
   ],
   "source": [
    "sorted(dict1)"
   ]
  },
  {
   "cell_type": "code",
   "execution_count": 58,
   "id": "c34b5ef1-0761-4921-bb96-100c31e67e8f",
   "metadata": {},
   "outputs": [
    {
     "data": {
      "text/plain": [
       "dict_items([('아이스아메리카노', 3000), ('달고나라떼', 4000), ('초코라떼', 4500)])"
      ]
     },
     "execution_count": 58,
     "metadata": {},
     "output_type": "execute_result"
    }
   ],
   "source": [
    "dict1.items()"
   ]
  },
  {
   "cell_type": "code",
   "execution_count": 59,
   "id": "cf4838cb-c55c-4ba5-9e99-d47d32134dfc",
   "metadata": {},
   "outputs": [
    {
     "data": {
      "text/plain": [
       "[('아이스아메리카노', 3000), ('달고나라떼', 4000), ('초코라떼', 4500)]"
      ]
     },
     "execution_count": 59,
     "metadata": {},
     "output_type": "execute_result"
    }
   ],
   "source": [
    "sorted(dict1.items(),key=lambda data:data[1])"
   ]
  },
  {
   "cell_type": "code",
   "execution_count": 44,
   "id": "f66d5540-8fdd-492a-a7b7-617e14f5a266",
   "metadata": {},
   "outputs": [],
   "source": [
    "student_tu = [('john','A',15),\n",
    "            ('jane','B',12),\n",
    "            ('dave','B',10)]"
   ]
  },
  {
   "cell_type": "code",
   "execution_count": 45,
   "id": "dd615c7b-c96d-45f2-adaf-fbee3cb10e8f",
   "metadata": {},
   "outputs": [
    {
     "data": {
      "text/plain": [
       "[('dave', 'B', 10), ('jane', 'B', 12), ('john', 'A', 15)]"
      ]
     },
     "execution_count": 45,
     "metadata": {},
     "output_type": "execute_result"
    }
   ],
   "source": [
    "sorted(student_tu)"
   ]
  },
  {
   "cell_type": "code",
   "execution_count": 46,
   "id": "78cfb61d-c3dd-49c3-b4bf-3f36284336f7",
   "metadata": {},
   "outputs": [
    {
     "data": {
      "text/plain": [
       "[('john', 'A', 15), ('jane', 'B', 12), ('dave', 'B', 10)]"
      ]
     },
     "execution_count": 46,
     "metadata": {},
     "output_type": "execute_result"
    }
   ],
   "source": [
    "sorted(student_tu,key=lambda x :x[2],reverse=True)"
   ]
  },
  {
   "cell_type": "code",
   "execution_count": 3,
   "id": "f2b18a22-a783-43b2-916f-8b8029be5d4e",
   "metadata": {},
   "outputs": [],
   "source": [
    "dic2 = {'아메리카노':3000,'달고나라떼':4000,'초코라떼':4500,'석류에이드':3500,'히비스커스':3800}"
   ]
  },
  {
   "cell_type": "code",
   "execution_count": 4,
   "id": "2261ba02-2f58-44a0-9ddf-ad4ccd939f7d",
   "metadata": {},
   "outputs": [],
   "source": [
    "del dic2['아메리카노']"
   ]
  },
  {
   "cell_type": "code",
   "execution_count": 5,
   "id": "f0608771-0c52-4edd-ac09-dc0af7c16daa",
   "metadata": {},
   "outputs": [
    {
     "data": {
      "text/plain": [
       "{'달고나라떼': 4000, '초코라떼': 4500, '석류에이드': 3500, '히비스커스': 3800}"
      ]
     },
     "execution_count": 5,
     "metadata": {},
     "output_type": "execute_result"
    }
   ],
   "source": [
    "dic2"
   ]
  },
  {
   "cell_type": "code",
   "execution_count": 6,
   "id": "08260de8-f41a-481d-bd69-44a393c41ecc",
   "metadata": {},
   "outputs": [],
   "source": [
    "dic2['아이스티'] = 2500"
   ]
  },
  {
   "cell_type": "code",
   "execution_count": 7,
   "id": "d5f501d9-6e73-41c3-bceb-2675070484c6",
   "metadata": {},
   "outputs": [
    {
     "data": {
      "text/plain": [
       "{'달고나라떼': 4000, '초코라떼': 4500, '석류에이드': 3500, '히비스커스': 3800, '아이스티': 2500}"
      ]
     },
     "execution_count": 7,
     "metadata": {},
     "output_type": "execute_result"
    }
   ],
   "source": [
    "dic2"
   ]
  },
  {
   "cell_type": "code",
   "execution_count": 8,
   "id": "66aa86a0-9e79-4bd3-9608-2ae8e0a43766",
   "metadata": {},
   "outputs": [
    {
     "data": {
      "text/plain": [
       "['달고나라떼', '석류에이드', '아이스티', '초코라떼', '히비스커스']"
      ]
     },
     "execution_count": 8,
     "metadata": {},
     "output_type": "execute_result"
    }
   ],
   "source": [
    "sorted(dic2)"
   ]
  },
  {
   "cell_type": "raw",
   "id": "dfdc70a8-7f33-4289-bd5d-11052511845a",
   "metadata": {},
   "source": [
    "quiz.04>\n",
    "quiz.03에 내용을 프로그램 시작시 읽어오고 프로그램 종료시에 저장"
   ]
  },
  {
   "cell_type": "code",
   "execution_count": 83,
   "id": "f1590c96-0e2e-42a0-a136-146a789d48d6",
   "metadata": {},
   "outputs": [
    {
     "name": "stdin",
     "output_type": "stream",
     "text": [
      " 1.메뉴입력 2.메뉴수정 3.메뉴목록 4.메뉴삭제 5.프로그램 종료\n",
      "    메뉴선택 >>>  4\n"
     ]
    },
    {
     "name": "stdout",
     "output_type": "stream",
     "text": [
      "현재메뉴 : ['아메리카노', '달고나라떼', '초코라떼', '석류에이드', '히비스커스']\n"
     ]
    },
    {
     "name": "stdin",
     "output_type": "stream",
     "text": [
      "삭제할 메뉴명을 입력하세요 >>> 초코라떼\n",
      " 1.메뉴입력 2.메뉴수정 3.메뉴목록 4.메뉴삭제 5.프로그램 종료\n",
      "    메뉴선택 >>>  3\n"
     ]
    },
    {
     "name": "stdout",
     "output_type": "stream",
     "text": [
      "----- menu -----\n",
      "달고나라떼 : 4,000\n",
      "히비스커스 : 3,800\n",
      "석류에이드 : 3,500\n",
      "아메리카노 : 3,000\n"
     ]
    },
    {
     "name": "stdin",
     "output_type": "stream",
     "text": [
      " 1.메뉴입력 2.메뉴수정 3.메뉴목록 4.메뉴삭제 5.프로그램 종료\n",
      "    메뉴선택 >>>  5\n"
     ]
    },
    {
     "name": "stdout",
     "output_type": "stream",
     "text": [
      "프로그램을 종료합니다.\n"
     ]
    }
   ],
   "source": [
    "import json\n",
    "\n",
    "f = open('menu.json','r')\n",
    "menu = json.load(f)\n",
    "f.close()\n",
    "\n",
    "#menu = {'아메리카노':3000,'달고나라떼':4000,'초코라떼':4500,'석류에이드':3500,'히비스커스':3800}\n",
    "while True:\n",
    "    choic = input(''' 1.메뉴입력 2.메뉴수정 3.메뉴목록 4.메뉴삭제 5.프로그램 종료\n",
    "    메뉴선택 >>> ''')\n",
    "    if choic == '1':\n",
    "        print('현재메뉴 :',list(menu.keys()))\n",
    "        name = input('추가할 메뉴명을 입력하세요 >>>')\n",
    "        price = 'a'\n",
    "        while not price.isdecimal():\n",
    "            price = input('추가할 메뉴의 가격을 입력하세요 >>>')\n",
    "        menu[name]=int(price)\n",
    "    elif choic == '2':\n",
    "        print('현재메뉴 :',list(menu.keys()))\n",
    "        name = ''\n",
    "        while not name in menu.keys():\n",
    "            name = input('수정할 메뉴명을 입력하세요 >>>')\n",
    "        price = 'a'\n",
    "        while not price.isdecimal():\n",
    "            price = input('수정할 메뉴의 가격을 입력하세요 >>>')\n",
    "        menu[name]=int(price)\n",
    "    elif choic == '3':\n",
    "        print('----- menu -----')\n",
    "        for item in sorted(menu.items() ,key=lambda data:data[1],reverse=True):\n",
    "            print(f'{item[0]} : {item[1]:,}')\n",
    "    elif choic == '4':\n",
    "        print('현재메뉴 :',list(menu.keys()))\n",
    "        name = ''\n",
    "        while not name in menu.keys():\n",
    "            name = input('삭제할 메뉴명을 입력하세요 >>>')\n",
    "        del menu[name]\n",
    "    elif choic == '5':\n",
    "        print('프로그램을 종료합니다.')\n",
    "        f = open('menu.json','w')\n",
    "        json.dump(menu,f)\n",
    "        f.close()  \n",
    "        break\n",
    "    else:\n",
    "        print('메뉴를 잘못 선택하셨습니다.') "
   ]
  },
  {
   "cell_type": "code",
   "execution_count": 39,
   "id": "3f9515d0-130f-4d35-bc22-ba80ae381b9b",
   "metadata": {},
   "outputs": [],
   "source": [
    "file = open('hello.txt','w')"
   ]
  },
  {
   "cell_type": "code",
   "execution_count": 41,
   "id": "f4837157-735c-41e6-bef5-317751b5a602",
   "metadata": {},
   "outputs": [
    {
     "data": {
      "text/plain": [
       "12"
      ]
     },
     "execution_count": 41,
     "metadata": {},
     "output_type": "execute_result"
    }
   ],
   "source": [
    "file.write('hello world!')"
   ]
  },
  {
   "cell_type": "code",
   "execution_count": 42,
   "id": "03b55df9-90ec-4f68-ae44-485c69748d56",
   "metadata": {},
   "outputs": [],
   "source": [
    "file.close()"
   ]
  },
  {
   "cell_type": "code",
   "execution_count": 56,
   "id": "32cc9f9d-9748-496d-970f-f55ffb38ed73",
   "metadata": {},
   "outputs": [],
   "source": [
    "file = open('hello.txt','r')\n",
    "text = file.readlines()"
   ]
  },
  {
   "cell_type": "code",
   "execution_count": 57,
   "id": "2105a187-2467-4a18-83fa-f1ea01b5d08b",
   "metadata": {},
   "outputs": [
    {
     "data": {
      "text/plain": [
       "['hello world!\\n',\n",
       " 'hello world!\\n',\n",
       " 'hello world!\\n',\n",
       " 'hello world!\\n',\n",
       " 'hello world!\\n',\n",
       " 'hello world!']"
      ]
     },
     "execution_count": 57,
     "metadata": {},
     "output_type": "execute_result"
    }
   ],
   "source": [
    "text"
   ]
  },
  {
   "cell_type": "code",
   "execution_count": 58,
   "id": "7bd14ab9-08c3-414b-93f7-91cc2a20c189",
   "metadata": {},
   "outputs": [],
   "source": [
    "file.close()"
   ]
  },
  {
   "cell_type": "code",
   "execution_count": 59,
   "id": "96c16707-cb1e-44ff-b5ed-ec6bc70ba251",
   "metadata": {},
   "outputs": [],
   "source": [
    "import pickle"
   ]
  },
  {
   "cell_type": "code",
   "execution_count": 60,
   "id": "61c70c58-a248-423f-a52d-a8c79be799fe",
   "metadata": {},
   "outputs": [
    {
     "data": {
      "text/plain": [
       "{'아메리카노': 3000, '달고나라떼': 4000, '초코라떼': 4500, '석류에이드': 3500, '히비스커스': 3800}"
      ]
     },
     "execution_count": 60,
     "metadata": {},
     "output_type": "execute_result"
    }
   ],
   "source": [
    "menu"
   ]
  },
  {
   "cell_type": "code",
   "execution_count": 70,
   "id": "02cd41ff-93c3-490c-8023-f58af44d4561",
   "metadata": {},
   "outputs": [],
   "source": [
    "f = open('menu.pickle','wb')\n",
    "pickle.dump(menu,f)\n",
    "f.close()"
   ]
  },
  {
   "cell_type": "code",
   "execution_count": 71,
   "id": "37230330-4914-471e-acbd-a53a3f3f0bb9",
   "metadata": {},
   "outputs": [],
   "source": [
    "f = open('menu.pickle','rb')\n",
    "data = pickle.load(f)\n",
    "f.close()"
   ]
  },
  {
   "cell_type": "code",
   "execution_count": 72,
   "id": "b185b0b5-a821-4aab-8612-7785f555311b",
   "metadata": {},
   "outputs": [
    {
     "data": {
      "text/plain": [
       "dict"
      ]
     },
     "execution_count": 72,
     "metadata": {},
     "output_type": "execute_result"
    }
   ],
   "source": [
    "type(data)"
   ]
  },
  {
   "cell_type": "code",
   "execution_count": 73,
   "id": "815c17f8-c4af-4bc6-bc22-6bf6174050c4",
   "metadata": {},
   "outputs": [
    {
     "data": {
      "text/plain": [
       "{'아메리카노': 3000, '달고나라떼': 4000, '초코라떼': 4500, '석류에이드': 3500, '히비스커스': 3800}"
      ]
     },
     "execution_count": 73,
     "metadata": {},
     "output_type": "execute_result"
    }
   ],
   "source": [
    "data"
   ]
  },
  {
   "cell_type": "raw",
   "id": "9d5b40a1-6e1d-4af7-bcf1-fdce1ba86959",
   "metadata": {},
   "source": [
    "pickle -> dump, dumps\n",
    "       -> load, loads\n",
    "'w','wb','r','rb','x'"
   ]
  },
  {
   "cell_type": "code",
   "execution_count": 74,
   "id": "42640a39-7a00-4f7e-943f-14b7a3cf9f50",
   "metadata": {},
   "outputs": [],
   "source": [
    "import json"
   ]
  },
  {
   "cell_type": "code",
   "execution_count": 75,
   "id": "c235eac2-71fe-4656-95ab-6d9069d8e917",
   "metadata": {},
   "outputs": [],
   "source": [
    "f = open('menu.json','w')\n",
    "json.dump(menu,f)\n",
    "f.close()"
   ]
  },
  {
   "cell_type": "code",
   "execution_count": 76,
   "id": "dc2f7695-9182-4ef3-978c-c451aea11a66",
   "metadata": {},
   "outputs": [],
   "source": [
    "f = open('menu.json','r')\n",
    "data = json.load(f)\n",
    "f.close()"
   ]
  },
  {
   "cell_type": "code",
   "execution_count": 77,
   "id": "787338ac-b4d4-44bb-b730-9d5b3c008425",
   "metadata": {},
   "outputs": [
    {
     "data": {
      "text/plain": [
       "dict"
      ]
     },
     "execution_count": 77,
     "metadata": {},
     "output_type": "execute_result"
    }
   ],
   "source": [
    "type(data)"
   ]
  },
  {
   "cell_type": "code",
   "execution_count": 78,
   "id": "b3fc5810-7552-42b5-98e2-6a35ea8ee4bb",
   "metadata": {},
   "outputs": [
    {
     "data": {
      "text/plain": [
       "{'아메리카노': 3000, '달고나라떼': 4000, '초코라떼': 4500, '석류에이드': 3500, '히비스커스': 3800}"
      ]
     },
     "execution_count": 78,
     "metadata": {},
     "output_type": "execute_result"
    }
   ],
   "source": [
    "data"
   ]
  },
  {
   "cell_type": "raw",
   "id": "a2f086f4-3ad4-4f03-9178-92584f5f02de",
   "metadata": {},
   "source": [
    "quiz.05>\n",
    "타자게임\n",
    "- 데이터는 word = [\"cat\",\"dog\",\"fox\",\"money\",\"mouse\",\"close\",\"chair\",\"cup\",\"panda\",\"lope\"]\n",
    "- 문제는 총 5문제 나옵니다.\n",
    "- 나온 문제는 맞출때까지 계속 됩니다.\n",
    "- 문제를 맞추면 다음 문제가 나옵니다.\n",
    "- 걸린 시간을 보여줍니다."
   ]
  },
  {
   "cell_type": "code",
   "execution_count": 84,
   "id": "af8923d2-4465-4674-8ed7-ba6254c8ce01",
   "metadata": {},
   "outputs": [],
   "source": [
    "import random"
   ]
  },
  {
   "cell_type": "code",
   "execution_count": 85,
   "id": "09414bfe-5683-4b83-9bd6-8bdc3a9d0c48",
   "metadata": {},
   "outputs": [],
   "source": [
    "word = [\"cat\",\"dog\",\"fox\",\"money\",\"mouse\",\"close\",\"chair\",\"cup\",\"panda\",\"lope\"]"
   ]
  },
  {
   "cell_type": "code",
   "execution_count": 88,
   "id": "a41aa4f7-747b-4ce0-9b59-7d15afb4fdab",
   "metadata": {},
   "outputs": [
    {
     "data": {
      "text/plain": [
       "'cup'"
      ]
     },
     "execution_count": 88,
     "metadata": {},
     "output_type": "execute_result"
    }
   ],
   "source": [
    "random.choice(word)"
   ]
  },
  {
   "cell_type": "code",
   "execution_count": 111,
   "id": "e6cb8583-232f-4fa4-8833-407f23568edf",
   "metadata": {},
   "outputs": [
    {
     "data": {
      "text/plain": [
       "'money'"
      ]
     },
     "execution_count": 111,
     "metadata": {},
     "output_type": "execute_result"
    }
   ],
   "source": [
    "word[random.randint(0,len(word)-1)]"
   ]
  },
  {
   "cell_type": "raw",
   "id": "ed5c37ab-12c1-42c4-b09b-d69de0e98688",
   "metadata": {},
   "source": [
    "import random\n",
    "while True:\n",
    "    word = [\"cat\",\"dog\",\"fox\",\"money\",\"mouse\",\"close\",\"chair\",\"cup\",\"panda\",\"lope\"]\n",
    "    invalue = input(random.choice(word))\n",
    "    pass\n",
    "    while not word:\n",
    "        print ('다시 입력하세요')\n",
    "    print(word)"
   ]
  },
  {
   "cell_type": "code",
   "execution_count": 127,
   "id": "4b8946eb-8ced-40e1-818b-c69c23a839db",
   "metadata": {
    "collapsed": true,
    "jupyter": {
     "outputs_hidden": true
    },
    "tags": []
   },
   "outputs": [
    {
     "name": "stdin",
     "output_type": "stream",
     "text": [
      "시작(enter) \n"
     ]
    },
    {
     "name": "stdout",
     "output_type": "stream",
     "text": [
      "1번\n",
      "chair\n"
     ]
    },
    {
     "name": "stdin",
     "output_type": "stream",
     "text": [
      " chair\n"
     ]
    },
    {
     "name": "stdout",
     "output_type": "stream",
     "text": [
      "통과\n",
      "2번\n",
      "panda\n"
     ]
    },
    {
     "name": "stdin",
     "output_type": "stream",
     "text": [
      " panda\n"
     ]
    },
    {
     "name": "stdout",
     "output_type": "stream",
     "text": [
      "통과\n",
      "3번\n",
      "chair\n"
     ]
    },
    {
     "name": "stdin",
     "output_type": "stream",
     "text": [
      " chair\n"
     ]
    },
    {
     "name": "stdout",
     "output_type": "stream",
     "text": [
      "통과\n",
      "4번\n",
      "chair\n"
     ]
    },
    {
     "name": "stdin",
     "output_type": "stream",
     "text": [
      " chair\n"
     ]
    },
    {
     "name": "stdout",
     "output_type": "stream",
     "text": [
      "통과\n",
      "5번\n",
      "cup\n"
     ]
    },
    {
     "name": "stdin",
     "output_type": "stream",
     "text": [
      " cup\n"
     ]
    },
    {
     "name": "stdout",
     "output_type": "stream",
     "text": [
      "통과\n",
      "5문제 다 맞췄습니다.\n",
      "걸린시간:13초\n"
     ]
    }
   ],
   "source": [
    "import random,time\n",
    "\n",
    "word = [\"cat\",\"dog\",\"fox\",\"money\",\"mouse\",\"close\",\"chair\",\"cup\",\"panda\",\"lope\"]\n",
    "n = 1\n",
    "quiz = random.choice(word)\n",
    "input('시작(enter)')\n",
    "start = time.time()\n",
    "while n <= 5:\n",
    "    print(f'{n}번')\n",
    "    print(quiz)\n",
    "    x = input()\n",
    "    if quiz == x:\n",
    "        print('통과')\n",
    "        n += 1\n",
    "        quiz = random.choice(word)\n",
    "    else:\n",
    "        print('오타! 다시도전')\n",
    "print('5문제 다 맞췄습니다.')\n",
    "end = time.time()\n",
    "print(f'걸린시간:{end-start:.0f}초')"
   ]
  },
  {
   "cell_type": "raw",
   "id": "fdb565e9-ebfb-4091-a210-42a3e1c414fd",
   "metadata": {},
   "source": [
    "quiz.06>\n",
    "앞에 타자 게임을 활용\n",
    " 1.문제추가 2.타자게임 3.등수리스트 4.종료하기\n",
    "    - 문제추가 후 데이터는 파일 저장\n",
    "    - 문제추가는 단어를 입력받아서 중복되지 않게 추가, 종료 전까지 계속 추가 작업 진행\n",
    "    - 타자게임은 시간을 체크하고, 걸린시간을 사용자면과 함께 저장합니다(딕셔너리로 저장:등수데이터)\n",
    "    - 등수리스트는 걸린시간이 적은 순서대로 정렬해서 출력합니다\n",
    "    - 종료하기는 등수데이터를 저장하고 진행합니다\n",
    "    - 프로그램이 시작될때 문제와 등수정보를 읽어 옵니다"
   ]
  },
  {
   "cell_type": "raw",
   "id": "27149565-26fe-4cb8-8b70-4245ccfc1b16",
   "metadata": {},
   "source": [
    "#오답\n",
    "word = [\"cat\",\"dog\",\"fox\",\"money\",\"mouse\",\"close\",\"chair\",\"cup\",\"panda\",\"lope\"]\n",
    "while True:\n",
    "    choic = input(''' 1.문제추가 2.타자게임 3.등수리스트 4.종료하기\n",
    "메뉴선택 >>> ''')\n",
    "    if choic == '1':\n",
    "        print('현재단어': list(word.keys()))\n",
    "        word = input('추가할 단어명을 입력하세요 >>>')\n",
    "        int(\"\")\n",
    "    elif choic == '2':\n",
    "        pass\n",
    "    elif choic == '3':\n",
    "        pass\n",
    "    elif choic == '4':\n",
    "        print('프로그램을 종료합니다.')\n",
    "   "
   ]
  },
  {
   "cell_type": "code",
   "execution_count": 172,
   "id": "6db2b531-a893-43bb-9558-772040fe090b",
   "metadata": {
    "collapsed": true,
    "jupyter": {
     "outputs_hidden": true
    },
    "tags": []
   },
   "outputs": [
    {
     "name": "stdin",
     "output_type": "stream",
     "text": [
      "1.문제추가 2.타자게임 3.등수리스트 4.종료하기\n",
      "메뉴선택 >>>  3\n"
     ]
    },
    {
     "name": "stdout",
     "output_type": "stream",
     "text": [
      "1등 gggg 8.10\n",
      "2등 aaa 10.11\n",
      "3등 ddd 11.45\n"
     ]
    },
    {
     "name": "stdin",
     "output_type": "stream",
     "text": [
      "1.문제추가 2.타자게임 3.등수리스트 4.종료하기\n",
      "메뉴선택 >>>  4\n"
     ]
    },
    {
     "name": "stdout",
     "output_type": "stream",
     "text": [
      "프로그램을 종료합니다.\n"
     ]
    }
   ],
   "source": [
    "import random,time,json\n",
    "\n",
    "# word = [\"cat\",\"dog\",\"fox\",\"money\",\"mouse\",\"close\",\"chair\",\"cup\",\"panda\",\"lope\"]\n",
    "# rank = {'aaa':10.111}\n",
    "\n",
    "with open('word.json','r') as f:\n",
    "    word = json.load(f)\n",
    "with open('rank.json','r') as f:\n",
    "    rank = json.load(f) \n",
    "\n",
    "while True:\n",
    "    menu = input('''1.문제추가 2.타자게임 3.등수리스트 4.종료하기\n",
    "메뉴선택 >>> ''')\n",
    "    if menu == '1':\n",
    "        while True:\n",
    "            quiz = input('추가할 단어를 입력하세요.(종료:0) >>>')\n",
    "            while quiz in word:\n",
    "                quiz = input('중복된 단어 입니다. 다시 입력하세요.(종료:0) >>>')\n",
    "            if quiz == '0':\n",
    "                break\n",
    "            word.append(quiz)\n",
    "            print(word)\n",
    "        with open('word.json','w') as f:\n",
    "            json.dump(word,f)\n",
    "    elif menu == '2':\n",
    "        n = 1\n",
    "        quiz = random.choice(word)\n",
    "        input('시작(enter)')\n",
    "        start = time.time()\n",
    "        while n <= 5:\n",
    "            print(f'{n}번')\n",
    "            print(quiz)\n",
    "            x = input()\n",
    "            if quiz == x:\n",
    "                print('통과')\n",
    "                n += 1\n",
    "                quiz = random.choice(word)\n",
    "            else:\n",
    "                print('오타! 다시도전')\n",
    "        print('5문제 다 맞췄습니다.')\n",
    "        end = time.time()\n",
    "        print(f'걸린시간:{end-start:.0f}초')\n",
    "        name = input('사용자명을 입력하세요 >>>')\n",
    "        while name in rank:\n",
    "            name = input('사용자명이 중복됩니다. 다른 이름을 입력하세요. >>>')\n",
    "        rank[name]=end-start\n",
    "        print(rank)\n",
    "    elif menu == '3':\n",
    "        ranklist = sorted(rank.items(),key=lambda x:x[1])\n",
    "        for index,item in enumerate(ranklist):\n",
    "            print(f'{index+1}등 {item[0]} {item[1]:.2f}')\n",
    "    elif menu == '4':\n",
    "        print('프로그램을 종료합니다.')\n",
    "        with open('rank.json','w') as f:\n",
    "             json.dump(rank,f)\n",
    "        break\n",
    "    else:\n",
    "        print('메뉴선택을 잘못하셨습니다.')"
   ]
  },
  {
   "cell_type": "code",
   "execution_count": null,
   "id": "ce47cd54-a28c-4adc-aea5-f22de4258bec",
   "metadata": {},
   "outputs": [],
   "source": []
  }
 ],
 "metadata": {
  "kernelspec": {
   "display_name": "Python 3 (ipykernel)",
   "language": "python",
   "name": "python3"
  },
  "language_info": {
   "codemirror_mode": {
    "name": "ipython",
    "version": 3
   },
   "file_extension": ".py",
   "mimetype": "text/x-python",
   "name": "python",
   "nbconvert_exporter": "python",
   "pygments_lexer": "ipython3",
   "version": "3.9.7"
  }
 },
 "nbformat": 4,
 "nbformat_minor": 5
}
