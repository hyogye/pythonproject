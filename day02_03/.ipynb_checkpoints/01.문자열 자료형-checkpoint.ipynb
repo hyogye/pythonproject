{
 "cells": [
  {
   "cell_type": "code",
   "execution_count": 8,
   "id": "eb898651-1b3f-4ad0-a6ec-af85a45d2b70",
   "metadata": {},
   "outputs": [],
   "source": [
    "a = 'hello,hi,hi'"
   ]
  },
  {
   "cell_type": "code",
   "execution_count": 3,
   "id": "1f8a8bf9-1ae5-4f9b-915b-d0f90e0c2e84",
   "metadata": {},
   "outputs": [
    {
     "data": {
      "text/plain": [
       "str"
      ]
     },
     "execution_count": 3,
     "metadata": {},
     "output_type": "execute_result"
    }
   ],
   "source": [
    "type(a)"
   ]
  },
  {
   "cell_type": "code",
   "execution_count": 11,
   "id": "f2e97264-fdcf-4461-ae1f-e90e8c8ad258",
   "metadata": {},
   "outputs": [],
   "source": [
    "b = a.split(sep=',')"
   ]
  },
  {
   "cell_type": "code",
   "execution_count": 12,
   "id": "60a5a2f8-6eb1-4169-8de5-f2313f2037d5",
   "metadata": {},
   "outputs": [
    {
     "data": {
      "text/plain": [
       "['hello', 'hi', 'hi']"
      ]
     },
     "execution_count": 12,
     "metadata": {},
     "output_type": "execute_result"
    }
   ],
   "source": [
    "b"
   ]
  },
  {
   "cell_type": "code",
   "execution_count": 13,
   "id": "137671a3-098f-4ecb-be7d-d917a3ff755a",
   "metadata": {},
   "outputs": [
    {
     "data": {
      "text/plain": [
       "'hello, hi, hi'"
      ]
     },
     "execution_count": 13,
     "metadata": {},
     "output_type": "execute_result"
    }
   ],
   "source": [
    "', '.join(b)"
   ]
  },
  {
   "cell_type": "code",
   "execution_count": 15,
   "id": "6a7f9c12-5122-4a56-9ba3-aff6a3b7ee25",
   "metadata": {},
   "outputs": [
    {
     "data": {
      "text/plain": [
       "'hello,hi,hi'"
      ]
     },
     "execution_count": 15,
     "metadata": {},
     "output_type": "execute_result"
    }
   ],
   "source": [
    "a"
   ]
  },
  {
   "cell_type": "code",
   "execution_count": 18,
   "id": "615fdd23-601f-4202-9f43-e6d19be98848",
   "metadata": {},
   "outputs": [],
   "source": [
    "a1 = a.upper()"
   ]
  },
  {
   "cell_type": "code",
   "execution_count": 19,
   "id": "5ea3b4ef-1858-463a-b15b-4554b26bef91",
   "metadata": {},
   "outputs": [
    {
     "data": {
      "text/plain": [
       "'HELLO,HI,HI'"
      ]
     },
     "execution_count": 19,
     "metadata": {},
     "output_type": "execute_result"
    }
   ],
   "source": [
    "a1"
   ]
  },
  {
   "cell_type": "code",
   "execution_count": 20,
   "id": "7830ea01-4f52-4748-9b02-ae662c33b8d4",
   "metadata": {},
   "outputs": [
    {
     "data": {
      "text/plain": [
       "'hello,hi,hi'"
      ]
     },
     "execution_count": 20,
     "metadata": {},
     "output_type": "execute_result"
    }
   ],
   "source": [
    "a1.lower()"
   ]
  },
  {
   "cell_type": "code",
   "execution_count": 21,
   "id": "725c93a8-c1c0-4cfa-be88-8fac00a05dcb",
   "metadata": {},
   "outputs": [
    {
     "data": {
      "text/plain": [
       "'Hello,hi,hi'"
      ]
     },
     "execution_count": 21,
     "metadata": {},
     "output_type": "execute_result"
    }
   ],
   "source": [
    "a1.capitalize()"
   ]
  },
  {
   "cell_type": "code",
   "execution_count": 22,
   "id": "61ad388d-1518-477a-a116-43d8b985a254",
   "metadata": {},
   "outputs": [],
   "source": [
    "a  = ' hi '"
   ]
  },
  {
   "cell_type": "code",
   "execution_count": 23,
   "id": "4fcca27f-b7f8-432d-9761-1ad5fd82fdc1",
   "metadata": {},
   "outputs": [
    {
     "data": {
      "text/plain": [
       "' hi'"
      ]
     },
     "execution_count": 23,
     "metadata": {},
     "output_type": "execute_result"
    }
   ],
   "source": [
    "a.rstrip()"
   ]
  },
  {
   "cell_type": "code",
   "execution_count": 24,
   "id": "5b0b0b03-7189-48bf-ada5-d7a612edb2c1",
   "metadata": {},
   "outputs": [
    {
     "data": {
      "text/plain": [
       "'hi '"
      ]
     },
     "execution_count": 24,
     "metadata": {},
     "output_type": "execute_result"
    }
   ],
   "source": [
    "a.lstrip()"
   ]
  },
  {
   "cell_type": "code",
   "execution_count": 25,
   "id": "85232cef-4412-4000-b0c3-86cfbf5a39fb",
   "metadata": {},
   "outputs": [
    {
     "data": {
      "text/plain": [
       "'hi'"
      ]
     },
     "execution_count": 25,
     "metadata": {},
     "output_type": "execute_result"
    }
   ],
   "source": [
    "a.strip()"
   ]
  },
  {
   "cell_type": "code",
   "execution_count": 28,
   "id": "d50d9795-47bf-4f0e-92b3-8ce750144ada",
   "metadata": {},
   "outputs": [],
   "source": [
    "a = \"My bag is too big\""
   ]
  },
  {
   "cell_type": "code",
   "execution_count": 29,
   "id": "0cbf5b8e-cd5b-4ac9-ae9d-67a72e13feb1",
   "metadata": {},
   "outputs": [
    {
     "data": {
      "text/plain": [
       "'My bag is  big'"
      ]
     },
     "execution_count": 29,
     "metadata": {},
     "output_type": "execute_result"
    }
   ],
   "source": [
    "a.replace('too','')"
   ]
  },
  {
   "cell_type": "code",
   "execution_count": 30,
   "id": "f70e9394-74a9-46e9-8ec5-9eb1affcc172",
   "metadata": {},
   "outputs": [],
   "source": [
    "e = [1, 2, ['Life', 'is']]"
   ]
  },
  {
   "cell_type": "code",
   "execution_count": 32,
   "id": "4af2df08-bac7-4748-a548-d12740a9033b",
   "metadata": {},
   "outputs": [
    {
     "data": {
      "text/plain": [
       "list"
      ]
     },
     "execution_count": 32,
     "metadata": {},
     "output_type": "execute_result"
    }
   ],
   "source": [
    "type(e)"
   ]
  },
  {
   "cell_type": "code",
   "execution_count": 34,
   "id": "ca126603-ec77-465b-9be6-b3a906add692",
   "metadata": {},
   "outputs": [
    {
     "data": {
      "text/plain": [
       "'Life'"
      ]
     },
     "execution_count": 34,
     "metadata": {},
     "output_type": "execute_result"
    }
   ],
   "source": [
    "e[-1][-2]"
   ]
  },
  {
   "cell_type": "code",
   "execution_count": 35,
   "id": "4810f269-6bb8-4e88-9e13-8846cbcc89db",
   "metadata": {},
   "outputs": [],
   "source": [
    " a = [1, 2, 3, ['a', 'b', 'c'], 4, 5]"
   ]
  },
  {
   "cell_type": "code",
   "execution_count": 36,
   "id": "8193e29a-0120-4c48-b754-e8411eb3b4c5",
   "metadata": {},
   "outputs": [
    {
     "data": {
      "text/plain": [
       "[['a', 'b', 'c']]"
      ]
     },
     "execution_count": 36,
     "metadata": {},
     "output_type": "execute_result"
    }
   ],
   "source": [
    "a[3:4]"
   ]
  },
  {
   "cell_type": "code",
   "execution_count": 38,
   "id": "dbe43ae0-b170-4120-86a2-68637f2e28c6",
   "metadata": {},
   "outputs": [
    {
     "data": {
      "text/plain": [
       "['a', 'b']"
      ]
     },
     "execution_count": 38,
     "metadata": {},
     "output_type": "execute_result"
    }
   ],
   "source": [
    "a[3][:2]"
   ]
  },
  {
   "cell_type": "code",
   "execution_count": 44,
   "id": "d62263ae-be3b-48dc-a651-001e046edc0a",
   "metadata": {},
   "outputs": [],
   "source": [
    "a = [1,2,3,{2,3,4}]\n",
    "b = [4,5,6]"
   ]
  },
  {
   "cell_type": "code",
   "execution_count": 45,
   "id": "77a7a4ad-6eb7-4dd6-90e5-1fceeee57090",
   "metadata": {},
   "outputs": [
    {
     "data": {
      "text/plain": [
       "[1, 2, 3, {2, 3, 4}, 4, 5, 6]"
      ]
     },
     "execution_count": 45,
     "metadata": {},
     "output_type": "execute_result"
    }
   ],
   "source": [
    "a + b"
   ]
  },
  {
   "cell_type": "code",
   "execution_count": 46,
   "id": "a709649e-a783-41e3-9178-f4065c6b11f9",
   "metadata": {},
   "outputs": [
    {
     "data": {
      "text/plain": [
       "[1, 2, 3, {2, 3, 4}, 1, 2, 3, {2, 3, 4}, 1, 2, 3, {2, 3, 4}]"
      ]
     },
     "execution_count": 46,
     "metadata": {},
     "output_type": "execute_result"
    }
   ],
   "source": [
    "a * 3"
   ]
  },
  {
   "cell_type": "code",
   "execution_count": 47,
   "id": "348033fb-b5d9-4ecb-a2e9-a3185286fe62",
   "metadata": {},
   "outputs": [
    {
     "data": {
      "text/plain": [
       "4"
      ]
     },
     "execution_count": 47,
     "metadata": {},
     "output_type": "execute_result"
    }
   ],
   "source": [
    "len(a)"
   ]
  },
  {
   "cell_type": "code",
   "execution_count": 48,
   "id": "7a4a6888-494a-4ac1-90c1-c1e465f636ef",
   "metadata": {},
   "outputs": [],
   "source": [
    "a = [1,2,3]\n",
    "a[2]=4"
   ]
  },
  {
   "cell_type": "code",
   "execution_count": 49,
   "id": "1a1fd8d3-e55a-4b07-9ff0-827a31714956",
   "metadata": {},
   "outputs": [
    {
     "data": {
      "text/plain": [
       "[1, 2, 4]"
      ]
     },
     "execution_count": 49,
     "metadata": {},
     "output_type": "execute_result"
    }
   ],
   "source": [
    "a"
   ]
  },
  {
   "cell_type": "code",
   "execution_count": 50,
   "id": "81dc773f-5906-44ce-96bc-0c29e30db887",
   "metadata": {},
   "outputs": [],
   "source": [
    "del a[0]"
   ]
  },
  {
   "cell_type": "code",
   "execution_count": 51,
   "id": "bbe117f8-49c1-4364-8432-77d51a5645ab",
   "metadata": {},
   "outputs": [
    {
     "data": {
      "text/plain": [
       "[2, 4]"
      ]
     },
     "execution_count": 51,
     "metadata": {},
     "output_type": "execute_result"
    }
   ],
   "source": [
    "a"
   ]
  },
  {
   "cell_type": "code",
   "execution_count": 52,
   "id": "b55e435c-dda9-40b5-b5f2-18fe54b405d5",
   "metadata": {},
   "outputs": [],
   "source": [
    "a = [1,2,3]\n",
    "a.append(4)"
   ]
  },
  {
   "cell_type": "code",
   "execution_count": 53,
   "id": "3092001e-1aa2-46a4-8d90-283d6e6bbd89",
   "metadata": {},
   "outputs": [
    {
     "data": {
      "text/plain": [
       "[1, 2, 3, 4]"
      ]
     },
     "execution_count": 53,
     "metadata": {},
     "output_type": "execute_result"
    }
   ],
   "source": [
    "a"
   ]
  },
  {
   "cell_type": "code",
   "execution_count": 54,
   "id": "d00a5b42-8e9d-4f47-a933-7b39a81f1b15",
   "metadata": {},
   "outputs": [],
   "source": [
    "a.append([5,6])"
   ]
  },
  {
   "cell_type": "code",
   "execution_count": 55,
   "id": "79c7bcba-aa47-476b-94f4-4925e2557a96",
   "metadata": {},
   "outputs": [
    {
     "data": {
      "text/plain": [
       "[1, 2, 3, 4, [5, 6]]"
      ]
     },
     "execution_count": 55,
     "metadata": {},
     "output_type": "execute_result"
    }
   ],
   "source": [
    "a"
   ]
  },
  {
   "cell_type": "code",
   "execution_count": 56,
   "id": "698e5f9b-b5e3-4e59-bae9-c3036652397e",
   "metadata": {},
   "outputs": [],
   "source": [
    "a.extend([7,8])"
   ]
  },
  {
   "cell_type": "code",
   "execution_count": 57,
   "id": "e14f9e50-7a81-4e16-97eb-ace9be025a79",
   "metadata": {},
   "outputs": [
    {
     "data": {
      "text/plain": [
       "[1, 2, 3, 4, [5, 6], 7, 8]"
      ]
     },
     "execution_count": 57,
     "metadata": {},
     "output_type": "execute_result"
    }
   ],
   "source": [
    "a"
   ]
  },
  {
   "cell_type": "code",
   "execution_count": 59,
   "id": "8481d217-e1eb-410b-b568-d81c55fb6e30",
   "metadata": {},
   "outputs": [],
   "source": [
    "#sorted()"
   ]
  },
  {
   "cell_type": "code",
   "execution_count": 63,
   "id": "ec9389cc-e9ed-4720-b861-f6c1a1e20bb6",
   "metadata": {},
   "outputs": [],
   "source": [
    "a = [3,4,7,2,9]"
   ]
  },
  {
   "cell_type": "code",
   "execution_count": 66,
   "id": "c50e3cb1-7145-4d8c-823d-3a7679081a21",
   "metadata": {},
   "outputs": [],
   "source": [
    "a.sort(reverse=True)"
   ]
  },
  {
   "cell_type": "code",
   "execution_count": 67,
   "id": "57fa27e5-64de-4d15-8787-dcfad1acd9fc",
   "metadata": {},
   "outputs": [
    {
     "data": {
      "text/plain": [
       "[9, 7, 4, 3, 2]"
      ]
     },
     "execution_count": 67,
     "metadata": {},
     "output_type": "execute_result"
    }
   ],
   "source": [
    "a"
   ]
  },
  {
   "cell_type": "code",
   "execution_count": 68,
   "id": "cf619799-3729-4e81-9d1e-2ade7b1ddfc2",
   "metadata": {},
   "outputs": [],
   "source": [
    "a = [3,4,7,2,9]"
   ]
  },
  {
   "cell_type": "code",
   "execution_count": 69,
   "id": "7f7cabd4-9151-4e21-9bb3-e0b927d3e23e",
   "metadata": {},
   "outputs": [],
   "source": [
    "a.reverse()"
   ]
  },
  {
   "cell_type": "code",
   "execution_count": 70,
   "id": "4bb526e4-974a-4c1e-baac-3a4c38a67080",
   "metadata": {},
   "outputs": [
    {
     "data": {
      "text/plain": [
       "[9, 2, 7, 4, 3]"
      ]
     },
     "execution_count": 70,
     "metadata": {},
     "output_type": "execute_result"
    }
   ],
   "source": [
    "a"
   ]
  },
  {
   "cell_type": "code",
   "execution_count": 71,
   "id": "dbd62e90-dadc-45b1-9921-3b7ad7f495fc",
   "metadata": {},
   "outputs": [
    {
     "data": {
      "text/plain": [
       "3"
      ]
     },
     "execution_count": 71,
     "metadata": {},
     "output_type": "execute_result"
    }
   ],
   "source": [
    "a.index(4)"
   ]
  },
  {
   "cell_type": "code",
   "execution_count": 72,
   "id": "c3fa598d-6c64-46ce-86fd-23732c06017b",
   "metadata": {},
   "outputs": [
    {
     "ename": "ValueError",
     "evalue": "5 is not in list",
     "output_type": "error",
     "traceback": [
      "\u001b[1;31m---------------------------------------------------------------------------\u001b[0m",
      "\u001b[1;31mValueError\u001b[0m                                Traceback (most recent call last)",
      "\u001b[1;32m~\\AppData\\Local\\Temp/ipykernel_11112/2975071546.py\u001b[0m in \u001b[0;36m<module>\u001b[1;34m\u001b[0m\n\u001b[1;32m----> 1\u001b[1;33m \u001b[0ma\u001b[0m\u001b[1;33m.\u001b[0m\u001b[0mindex\u001b[0m\u001b[1;33m(\u001b[0m\u001b[1;36m5\u001b[0m\u001b[1;33m)\u001b[0m\u001b[1;33m\u001b[0m\u001b[1;33m\u001b[0m\u001b[0m\n\u001b[0m",
      "\u001b[1;31mValueError\u001b[0m: 5 is not in list"
     ]
    }
   ],
   "source": [
    "a.index(5)"
   ]
  },
  {
   "cell_type": "code",
   "execution_count": 73,
   "id": "e88275d3-5132-4e4f-94c6-ca3005e91096",
   "metadata": {},
   "outputs": [
    {
     "data": {
      "text/plain": [
       "[9, 2, 7, 4, 3]"
      ]
     },
     "execution_count": 73,
     "metadata": {},
     "output_type": "execute_result"
    }
   ],
   "source": [
    "a"
   ]
  },
  {
   "cell_type": "code",
   "execution_count": 74,
   "id": "aaab45f8-2b1d-4216-9680-81f272135651",
   "metadata": {},
   "outputs": [],
   "source": [
    "a.insert(1,5)"
   ]
  },
  {
   "cell_type": "code",
   "execution_count": 75,
   "id": "2211f420-bbcd-4085-bbfa-2ab6884b4c1d",
   "metadata": {},
   "outputs": [
    {
     "data": {
      "text/plain": [
       "[9, 5, 2, 7, 4, 3]"
      ]
     },
     "execution_count": 75,
     "metadata": {},
     "output_type": "execute_result"
    }
   ],
   "source": [
    "a"
   ]
  },
  {
   "cell_type": "code",
   "execution_count": 76,
   "id": "8a8ca687-ecdf-4317-9e90-39651efe1933",
   "metadata": {},
   "outputs": [],
   "source": [
    " a = [1, 2, 3, 1, 2, 3]"
   ]
  },
  {
   "cell_type": "code",
   "execution_count": 77,
   "id": "ef8c05db-f3dd-4238-8c6a-460bca4c7a47",
   "metadata": {},
   "outputs": [],
   "source": [
    "a.remove(3)"
   ]
  },
  {
   "cell_type": "code",
   "execution_count": 78,
   "id": "d9e0ceae-4774-41a4-b82f-9fc98d300c02",
   "metadata": {},
   "outputs": [
    {
     "data": {
      "text/plain": [
       "[1, 2, 1, 2, 3]"
      ]
     },
     "execution_count": 78,
     "metadata": {},
     "output_type": "execute_result"
    }
   ],
   "source": [
    "a"
   ]
  },
  {
   "cell_type": "code",
   "execution_count": 79,
   "id": "5bc4a7f1-72c2-4e41-ab43-8594ad18826c",
   "metadata": {},
   "outputs": [],
   "source": [
    "a.remove(3)"
   ]
  },
  {
   "cell_type": "code",
   "execution_count": 80,
   "id": "5a709ede-888c-413b-a1db-cf96a05ab0a2",
   "metadata": {},
   "outputs": [
    {
     "data": {
      "text/plain": [
       "[1, 2, 1, 2]"
      ]
     },
     "execution_count": 80,
     "metadata": {},
     "output_type": "execute_result"
    }
   ],
   "source": [
    "a"
   ]
  },
  {
   "cell_type": "code",
   "execution_count": 82,
   "id": "5aaa9d26-3285-4590-adcc-a41d8387d09e",
   "metadata": {},
   "outputs": [
    {
     "ename": "ValueError",
     "evalue": "list.remove(x): x not in list",
     "output_type": "error",
     "traceback": [
      "\u001b[1;31m---------------------------------------------------------------------------\u001b[0m",
      "\u001b[1;31mValueError\u001b[0m                                Traceback (most recent call last)",
      "\u001b[1;32m~\\AppData\\Local\\Temp/ipykernel_11112/253791346.py\u001b[0m in \u001b[0;36m<module>\u001b[1;34m\u001b[0m\n\u001b[1;32m----> 1\u001b[1;33m \u001b[0ma\u001b[0m\u001b[1;33m.\u001b[0m\u001b[0mremove\u001b[0m\u001b[1;33m(\u001b[0m\u001b[1;36m3\u001b[0m\u001b[1;33m)\u001b[0m\u001b[1;33m\u001b[0m\u001b[1;33m\u001b[0m\u001b[0m\n\u001b[0m",
      "\u001b[1;31mValueError\u001b[0m: list.remove(x): x not in list"
     ]
    }
   ],
   "source": [
    "a.remove(3)"
   ]
  },
  {
   "cell_type": "code",
   "execution_count": 83,
   "id": "dc02ce1b-b409-4de5-a590-736a49bc0e60",
   "metadata": {},
   "outputs": [],
   "source": [
    "a = [1,2,3]"
   ]
  },
  {
   "cell_type": "code",
   "execution_count": 88,
   "id": "ae832dba-4a70-4f00-9261-ae3dd0d6319d",
   "metadata": {},
   "outputs": [
    {
     "data": {
      "text/plain": [
       "1"
      ]
     },
     "execution_count": 88,
     "metadata": {},
     "output_type": "execute_result"
    }
   ],
   "source": [
    "a.pop()"
   ]
  },
  {
   "cell_type": "code",
   "execution_count": 92,
   "id": "0cd612ed-6fbe-455d-a0fe-00446087a1df",
   "metadata": {},
   "outputs": [],
   "source": [
    "t4 = 1, 2, 3"
   ]
  },
  {
   "cell_type": "code",
   "execution_count": 93,
   "id": "c5ba170a-e51c-459f-bdc3-bea9c4915039",
   "metadata": {},
   "outputs": [
    {
     "data": {
      "text/plain": [
       "(1, 2, 3)"
      ]
     },
     "execution_count": 93,
     "metadata": {},
     "output_type": "execute_result"
    }
   ],
   "source": [
    "t4"
   ]
  },
  {
   "cell_type": "code",
   "execution_count": 94,
   "id": "30745bfc-885d-471d-9898-0605df674ca9",
   "metadata": {},
   "outputs": [],
   "source": [
    "t1 = (1, 2, 'a', 'b')"
   ]
  },
  {
   "cell_type": "code",
   "execution_count": 95,
   "id": "1c3a404f-be9e-48da-81a2-3aa997a58e4f",
   "metadata": {},
   "outputs": [
    {
     "ename": "TypeError",
     "evalue": "'tuple' object doesn't support item deletion",
     "output_type": "error",
     "traceback": [
      "\u001b[1;31m---------------------------------------------------------------------------\u001b[0m",
      "\u001b[1;31mTypeError\u001b[0m                                 Traceback (most recent call last)",
      "\u001b[1;32m~\\AppData\\Local\\Temp/ipykernel_11112/2661958664.py\u001b[0m in \u001b[0;36m<module>\u001b[1;34m\u001b[0m\n\u001b[1;32m----> 1\u001b[1;33m \u001b[1;32mdel\u001b[0m \u001b[0mt1\u001b[0m\u001b[1;33m[\u001b[0m\u001b[1;36m0\u001b[0m\u001b[1;33m]\u001b[0m\u001b[1;33m\u001b[0m\u001b[1;33m\u001b[0m\u001b[0m\n\u001b[0m",
      "\u001b[1;31mTypeError\u001b[0m: 'tuple' object doesn't support item deletion"
     ]
    }
   ],
   "source": [
    "del t1[0]"
   ]
  },
  {
   "cell_type": "code",
   "execution_count": 96,
   "id": "c1f97626-3dce-454a-9243-91910e14bdd1",
   "metadata": {},
   "outputs": [],
   "source": [
    "del t1"
   ]
  },
  {
   "cell_type": "code",
   "execution_count": 97,
   "id": "004a435f-3abb-4b8a-a8f2-2c1d1c418887",
   "metadata": {},
   "outputs": [
    {
     "ename": "NameError",
     "evalue": "name 't1' is not defined",
     "output_type": "error",
     "traceback": [
      "\u001b[1;31m---------------------------------------------------------------------------\u001b[0m",
      "\u001b[1;31mNameError\u001b[0m                                 Traceback (most recent call last)",
      "\u001b[1;32m~\\AppData\\Local\\Temp/ipykernel_11112/2524635252.py\u001b[0m in \u001b[0;36m<module>\u001b[1;34m\u001b[0m\n\u001b[1;32m----> 1\u001b[1;33m \u001b[0mt1\u001b[0m\u001b[1;33m\u001b[0m\u001b[1;33m\u001b[0m\u001b[0m\n\u001b[0m",
      "\u001b[1;31mNameError\u001b[0m: name 't1' is not defined"
     ]
    }
   ],
   "source": [
    "t1"
   ]
  },
  {
   "cell_type": "code",
   "execution_count": 99,
   "id": "ff2d2b6e-874e-4c4f-ad93-76fd304b144c",
   "metadata": {},
   "outputs": [],
   "source": [
    "dic = {'name':'pey', 'phone':'0119993323', 'birth': '1118'}"
   ]
  },
  {
   "cell_type": "code",
   "execution_count": 100,
   "id": "3e816a14-8ff6-43a9-81d5-7d102c80b013",
   "metadata": {},
   "outputs": [
    {
     "data": {
      "text/plain": [
       "'pey'"
      ]
     },
     "execution_count": 100,
     "metadata": {},
     "output_type": "execute_result"
    }
   ],
   "source": [
    "dic['name']"
   ]
  },
  {
   "cell_type": "code",
   "execution_count": 101,
   "id": "dfb27c9c-c300-4a05-871c-186cf373a7a4",
   "metadata": {},
   "outputs": [],
   "source": [
    "del dic['name']"
   ]
  },
  {
   "cell_type": "code",
   "execution_count": 102,
   "id": "55cc37fd-ceca-42e5-9470-14d025328440",
   "metadata": {},
   "outputs": [
    {
     "data": {
      "text/plain": [
       "{'phone': '0119993323', 'birth': '1118'}"
      ]
     },
     "execution_count": 102,
     "metadata": {},
     "output_type": "execute_result"
    }
   ],
   "source": [
    "dic"
   ]
  },
  {
   "cell_type": "code",
   "execution_count": 104,
   "id": "c0aff16d-ea57-430d-a0f0-c938c22c56d3",
   "metadata": {},
   "outputs": [],
   "source": [
    "dic['name']='hello'"
   ]
  },
  {
   "cell_type": "code",
   "execution_count": 105,
   "id": "2614e98e-ced5-4467-9ac3-19e15a369ccf",
   "metadata": {},
   "outputs": [
    {
     "data": {
      "text/plain": [
       "{'phone': '0119993323', 'birth': '1118', 'name': 'hello'}"
      ]
     },
     "execution_count": 105,
     "metadata": {},
     "output_type": "execute_result"
    }
   ],
   "source": [
    "dic"
   ]
  },
  {
   "cell_type": "code",
   "execution_count": 106,
   "id": "51fce375-b54c-4281-b151-75263e2938e4",
   "metadata": {},
   "outputs": [],
   "source": [
    "dic[(1,2)]=[2,3,4,5]"
   ]
  },
  {
   "cell_type": "code",
   "execution_count": 107,
   "id": "8fac83ea-3fc4-4969-bfc0-540e5e1e368f",
   "metadata": {},
   "outputs": [
    {
     "data": {
      "text/plain": [
       "{'phone': '0119993323', 'birth': '1118', 'name': 'hello', (1, 2): [2, 3, 4, 5]}"
      ]
     },
     "execution_count": 107,
     "metadata": {},
     "output_type": "execute_result"
    }
   ],
   "source": [
    "dic"
   ]
  },
  {
   "cell_type": "code",
   "execution_count": 108,
   "id": "4bd7ab83-8d70-4af7-a3aa-f2fae4e46cc3",
   "metadata": {},
   "outputs": [
    {
     "data": {
      "text/plain": [
       "dict_keys(['phone', 'birth', 'name', (1, 2)])"
      ]
     },
     "execution_count": 108,
     "metadata": {},
     "output_type": "execute_result"
    }
   ],
   "source": [
    "dic.keys()"
   ]
  },
  {
   "cell_type": "code",
   "execution_count": 109,
   "id": "c47a199e-6610-42a8-9169-7b679b9a09b8",
   "metadata": {},
   "outputs": [
    {
     "name": "stdout",
     "output_type": "stream",
     "text": [
      "0119993323\n",
      "1118\n",
      "hello\n",
      "[2, 3, 4, 5]\n"
     ]
    }
   ],
   "source": [
    "for x in dic.keys():\n",
    "    print(dic[x])"
   ]
  },
  {
   "cell_type": "code",
   "execution_count": 110,
   "id": "92232c26-ad5c-4321-86f3-0f579261fe48",
   "metadata": {},
   "outputs": [
    {
     "data": {
      "text/plain": [
       "dict_values(['0119993323', '1118', 'hello', [2, 3, 4, 5]])"
      ]
     },
     "execution_count": 110,
     "metadata": {},
     "output_type": "execute_result"
    }
   ],
   "source": [
    "dic.values()"
   ]
  },
  {
   "cell_type": "code",
   "execution_count": 111,
   "id": "11b6b21f-8d9f-4572-8b4f-d5294178616b",
   "metadata": {},
   "outputs": [
    {
     "data": {
      "text/plain": [
       "dict_items([('phone', '0119993323'), ('birth', '1118'), ('name', 'hello'), ((1, 2), [2, 3, 4, 5])])"
      ]
     },
     "execution_count": 111,
     "metadata": {},
     "output_type": "execute_result"
    }
   ],
   "source": [
    "dic.items()"
   ]
  },
  {
   "cell_type": "code",
   "execution_count": 112,
   "id": "edd3ff93-0784-439c-8fa0-d41a6492375f",
   "metadata": {},
   "outputs": [],
   "source": [
    "dic.clear()"
   ]
  },
  {
   "cell_type": "code",
   "execution_count": 113,
   "id": "0c46a09f-e3b7-4b8f-aa13-79c759c8f417",
   "metadata": {},
   "outputs": [
    {
     "data": {
      "text/plain": [
       "{}"
      ]
     },
     "execution_count": 113,
     "metadata": {},
     "output_type": "execute_result"
    }
   ],
   "source": [
    "dic"
   ]
  },
  {
   "cell_type": "code",
   "execution_count": 114,
   "id": "f4c5b86e-4467-44e9-a250-7b10c0055f93",
   "metadata": {},
   "outputs": [],
   "source": [
    "dic = {'name':'pey', 'phone':'0119993323', 'birth': '1118'}"
   ]
  },
  {
   "cell_type": "code",
   "execution_count": 115,
   "id": "5afa7c9d-cab9-4e6b-8c25-0c89e005f5db",
   "metadata": {},
   "outputs": [
    {
     "ename": "SyntaxError",
     "evalue": "invalid syntax (Temp/ipykernel_11112/1674829807.py, line 1)",
     "output_type": "error",
     "traceback": [
      "\u001b[1;36m  File \u001b[1;32m\"C:\\Users\\Admin\\AppData\\Local\\Temp/ipykernel_11112/1674829807.py\"\u001b[1;36m, line \u001b[1;32m1\u001b[0m\n\u001b[1;33m    dic{'name1}\u001b[0m\n\u001b[1;37m       ^\u001b[0m\n\u001b[1;31mSyntaxError\u001b[0m\u001b[1;31m:\u001b[0m invalid syntax\n"
     ]
    }
   ],
   "source": [
    "dic{'name1}"
   ]
  },
  {
   "cell_type": "code",
   "execution_count": 116,
   "id": "a23ce45c-8116-43ed-aee3-bee37f2d3109",
   "metadata": {},
   "outputs": [],
   "source": [
    "dic.get('name1')"
   ]
  },
  {
   "cell_type": "code",
   "execution_count": 117,
   "id": "6bbc5975-3e30-455c-b131-7b0338df8ead",
   "metadata": {},
   "outputs": [
    {
     "data": {
      "text/plain": [
       "'pey'"
      ]
     },
     "execution_count": 117,
     "metadata": {},
     "output_type": "execute_result"
    }
   ],
   "source": [
    "dic.get('name')"
   ]
  },
  {
   "cell_type": "code",
   "execution_count": 118,
   "id": "cb2bfb69-c703-4b2d-a198-b6034d681365",
   "metadata": {},
   "outputs": [
    {
     "data": {
      "text/plain": [
       "{'name': 'pey', 'phone': '0119993323', 'birth': '1118'}"
      ]
     },
     "execution_count": 118,
     "metadata": {},
     "output_type": "execute_result"
    }
   ],
   "source": [
    "dic"
   ]
  },
  {
   "cell_type": "code",
   "execution_count": 121,
   "id": "b4fdb927-bc1d-4f0a-bb18-4aa61c7f8cb1",
   "metadata": {},
   "outputs": [
    {
     "data": {
      "text/plain": [
       "True"
      ]
     },
     "execution_count": 121,
     "metadata": {},
     "output_type": "execute_result"
    }
   ],
   "source": [
    "'pey' in dic.values()"
   ]
  },
  {
   "cell_type": "code",
   "execution_count": 122,
   "id": "433352d7-bfa0-4ab1-a272-ca27c2152bc9",
   "metadata": {},
   "outputs": [],
   "source": [
    "a = [1,2,3,4,2,3,5,6]"
   ]
  },
  {
   "cell_type": "code",
   "execution_count": 123,
   "id": "3b561ea8-3d1e-4502-97b9-ec8222cdaabc",
   "metadata": {},
   "outputs": [],
   "source": [
    "s1 = set(a)"
   ]
  },
  {
   "cell_type": "code",
   "execution_count": 124,
   "id": "91114eff-0d4f-4c0f-9387-2306ea1e2d71",
   "metadata": {},
   "outputs": [
    {
     "data": {
      "text/plain": [
       "{1, 2, 3, 4, 5, 6}"
      ]
     },
     "execution_count": 124,
     "metadata": {},
     "output_type": "execute_result"
    }
   ],
   "source": [
    "s1"
   ]
  },
  {
   "cell_type": "code",
   "execution_count": 125,
   "id": "66e98142-44be-473a-994f-09e128606458",
   "metadata": {},
   "outputs": [
    {
     "name": "stdin",
     "output_type": "stream",
     "text": [
      "돈을 넣어 주세요:  500\n"
     ]
    },
    {
     "name": "stdout",
     "output_type": "stream",
     "text": [
      "거스름돈 200를 주고 커피를 줍니다.\n"
     ]
    },
    {
     "name": "stdin",
     "output_type": "stream",
     "text": [
      "돈을 넣어 주세요:  250\n"
     ]
    },
    {
     "name": "stdout",
     "output_type": "stream",
     "text": [
      "돈을 다시 돌려주고 커피를 주지 않습니다.\n",
      "남은 커피의 양은 9개 입니다.\n"
     ]
    },
    {
     "name": "stdin",
     "output_type": "stream",
     "text": [
      "돈을 넣어 주세요:  300\n"
     ]
    },
    {
     "name": "stdout",
     "output_type": "stream",
     "text": [
      "커피를 줍니다.\n"
     ]
    },
    {
     "name": "stdin",
     "output_type": "stream",
     "text": [
      "돈을 넣어 주세요:  350\n"
     ]
    },
    {
     "name": "stdout",
     "output_type": "stream",
     "text": [
      "거스름돈 50를 주고 커피를 줍니다.\n"
     ]
    },
    {
     "name": "stdin",
     "output_type": "stream",
     "text": [
      "돈을 넣어 주세요:  600\n"
     ]
    },
    {
     "name": "stdout",
     "output_type": "stream",
     "text": [
      "거스름돈 300를 주고 커피를 줍니다.\n"
     ]
    },
    {
     "name": "stdin",
     "output_type": "stream",
     "text": [
      "돈을 넣어 주세요:  1000\n"
     ]
    },
    {
     "name": "stdout",
     "output_type": "stream",
     "text": [
      "거스름돈 700를 주고 커피를 줍니다.\n"
     ]
    },
    {
     "name": "stdin",
     "output_type": "stream",
     "text": [
      "돈을 넣어 주세요:  659\n"
     ]
    },
    {
     "name": "stdout",
     "output_type": "stream",
     "text": [
      "거스름돈 359를 주고 커피를 줍니다.\n"
     ]
    },
    {
     "name": "stdin",
     "output_type": "stream",
     "text": [
      "돈을 넣어 주세요:  755\n"
     ]
    },
    {
     "name": "stdout",
     "output_type": "stream",
     "text": [
      "거스름돈 455를 주고 커피를 줍니다.\n"
     ]
    },
    {
     "name": "stdin",
     "output_type": "stream",
     "text": [
      "돈을 넣어 주세요:  450\n"
     ]
    },
    {
     "name": "stdout",
     "output_type": "stream",
     "text": [
      "거스름돈 150를 주고 커피를 줍니다.\n"
     ]
    },
    {
     "name": "stdin",
     "output_type": "stream",
     "text": [
      "돈을 넣어 주세요:  850\n"
     ]
    },
    {
     "name": "stdout",
     "output_type": "stream",
     "text": [
      "거스름돈 550를 주고 커피를 줍니다.\n"
     ]
    },
    {
     "name": "stdin",
     "output_type": "stream",
     "text": [
      "돈을 넣어 주세요:  620\n"
     ]
    },
    {
     "name": "stdout",
     "output_type": "stream",
     "text": [
      "거스름돈 320를 주고 커피를 줍니다.\n",
      "커피가 다 떨어졌습니다. 판매를 중지 합니다.\n"
     ]
    }
   ],
   "source": [
    "coffee = 10\n",
    "while True:\n",
    "    money = int(input(\"돈을 넣어 주세요: \"))\n",
    "    if money == 300:\n",
    "        print(\"커피를 줍니다.\")\n",
    "        coffee = coffee -1\n",
    "    elif money > 300:\n",
    "        print(\"거스름돈 %d를 주고 커피를 줍니다.\" % (money -300))\n",
    "        coffee = coffee -1\n",
    "    else:\n",
    "        print(\"돈을 다시 돌려주고 커피를 주지 않습니다.\")\n",
    "        print(\"남은 커피의 양은 %d개 입니다.\" % coffee)\n",
    "    if coffee == 0:\n",
    "        print(\"커피가 다 떨어졌습니다. 판매를 중지 합니다.\")\n",
    "        break\n",
    "    "
   ]
  },
  {
   "cell_type": "code",
   "execution_count": 126,
   "id": "8391cb7e-af52-49d8-aa8e-66b4169a0310",
   "metadata": {},
   "outputs": [
    {
     "name": "stdout",
     "output_type": "stream",
     "text": [
      "1\n",
      "2\n",
      "3\n",
      "4\n",
      "5\n"
     ]
    }
   ],
   "source": [
    "for i in[1,2,3,4,5]:\n",
    "    print(i)"
   ]
  },
  {
   "cell_type": "code",
   "execution_count": 128,
   "id": "d63c9f60-640c-485d-aa4a-8dc4f791585e",
   "metadata": {},
   "outputs": [
    {
     "name": "stdout",
     "output_type": "stream",
     "text": [
      "0\n",
      "1\n",
      "2\n",
      "3\n",
      "4\n",
      "5\n",
      "6\n",
      "7\n",
      "8\n",
      "9\n"
     ]
    }
   ],
   "source": [
    "for i in range(10):\n",
    "    print(i)"
   ]
  },
  {
   "cell_type": "code",
   "execution_count": 129,
   "id": "fc514459-8c41-493b-8301-a07fe76af2cc",
   "metadata": {},
   "outputs": [
    {
     "name": "stdout",
     "output_type": "stream",
     "text": [
      "0 a\n",
      "1 b\n",
      "2 c\n"
     ]
    }
   ],
   "source": [
    "for i,date in enumerate(['a','b','c']):\n",
    "    print(i,date)"
   ]
  },
  {
   "cell_type": "code",
   "execution_count": null,
   "id": "18ccf835-16a4-4e38-9697-9c3686b20e96",
   "metadata": {},
   "outputs": [],
   "source": []
  }
 ],
 "metadata": {
  "kernelspec": {
   "display_name": "Python 3 (ipykernel)",
   "language": "python",
   "name": "python3"
  },
  "language_info": {
   "codemirror_mode": {
    "name": "ipython",
    "version": 3
   },
   "file_extension": ".py",
   "mimetype": "text/x-python",
   "name": "python",
   "nbconvert_exporter": "python",
   "pygments_lexer": "ipython3",
   "version": "3.9.7"
  }
 },
 "nbformat": 4,
 "nbformat_minor": 5
}
